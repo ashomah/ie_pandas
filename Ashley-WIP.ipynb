{
 "cells": [
  {
   "cell_type": "markdown",
   "metadata": {
    "toc": true
   },
   "source": [
    "<h1>Table of Contents<span class=\"tocSkip\"></span></h1>\n",
    "<div class=\"toc\"><ul class=\"toc-item\"></ul></div>"
   ]
  },
  {
   "cell_type": "code",
   "execution_count": 1,
   "metadata": {},
   "outputs": [],
   "source": [
    "# ! pip install prettytable"
   ]
  },
  {
   "cell_type": "code",
   "execution_count": 176,
   "metadata": {},
   "outputs": [],
   "source": [
    "import numpy as np"
   ]
  },
  {
   "cell_type": "code",
   "execution_count": 1,
   "metadata": {},
   "outputs": [
    {
     "ename": "ModuleNotFoundError",
     "evalue": "No module named 'ie_pandas'",
     "output_type": "error",
     "traceback": [
      "\u001b[0;31m-----------------------------------------------------\u001b[0m",
      "\u001b[0;31mModuleNotFoundError\u001b[0m Traceback (most recent call last)",
      "\u001b[0;32m<ipython-input-1-2bbc65946031>\u001b[0m in \u001b[0;36m<module>\u001b[0;34m\u001b[0m\n\u001b[0;32m----> 1\u001b[0;31m \u001b[0;32mimport\u001b[0m \u001b[0mie_pandas\u001b[0m\u001b[0;34m\u001b[0m\u001b[0;34m\u001b[0m\u001b[0m\n\u001b[0m",
      "\u001b[0;31mModuleNotFoundError\u001b[0m: No module named 'ie_pandas'"
     ]
    }
   ],
   "source": [
    "import ie_pandas"
   ]
  },
  {
   "cell_type": "code",
   "execution_count": 179,
   "metadata": {},
   "outputs": [],
   "source": [
    "class DataFrame:\n",
    "    \n",
    "    import numpy as np\n",
    "\n",
    "    def __init__(self, input_object, colnames = '', rownames = ''):\n",
    "        self.input_object = input_object\n",
    "        print(type(self.input_object))\n",
    "\n",
    "        if (type(self.input_object) == list):\n",
    "            self.input_object = np.array(self.input_object)\n",
    "            print(type(self.input_object))\n",
    "                if rownames == '':\n",
    "                rownames = list(range(0,len(self.input_object)))\n",
    "            else:\n",
    "                if (len(rownames) != len(self.input_object)):\n",
    "                    raise Exception(\"The number of row names is {}, but the number of rows is {}.\".format(len(rownames), len(self.input_object)))\n",
    "            self.rownames = rownames\n",
    "            print(rownames)\n",
    "            if colnames == '':\n",
    "                colnames = list(range(0,len(self.input_object[0])))\n",
    "            else:\n",
    "                if (len(colnames) != len(self.input_object[0])):\n",
    "                    raise Exception(\"The number of column names is {}, but the number of columns is {}.\".format(len(colnames), len(self.input_object[0])))\n",
    "            self.colnames = colnames\n",
    "            print(colnames)\n",
    "    \n",
    "    def col(self, colname):\n",
    "        if colname in self.colnames:\n",
    "            return self[:,self.colnames.index(colname)]\n",
    "    \n",
    "    def __repr__(self):\n",
    "        return f\"ie_pandas object called '{self.input_object}'. It is a '{type(self.input_object)}'\""
   ]
  },
  {
   "cell_type": "code",
   "execution_count": 182,
   "metadata": {},
   "outputs": [
    {
     "name": "stdout",
     "output_type": "stream",
     "text": [
      "<class 'list'>\n",
      "<class 'numpy.ndarray'>\n",
      "['haha', 'hehe']\n",
      "[0, 1]\n"
     ]
    }
   ],
   "source": [
    "np_test = DataFrame([[1,2],[3,4]], rownames = ['haha', 'hehe'])"
   ]
  },
  {
   "cell_type": "code",
   "execution_count": 183,
   "metadata": {},
   "outputs": [
    {
     "name": "stdout",
     "output_type": "stream",
     "text": [
      "['haha', 'hehe']\n",
      "[0, 1]\n"
     ]
    }
   ],
   "source": [
    "print(np_test.rownames)\n",
    "print(np_test.colnames)"
   ]
  },
  {
   "cell_type": "code",
   "execution_count": 185,
   "metadata": {
    "scrolled": true
   },
   "outputs": [
    {
     "data": {
      "text/plain": [
       "ie_pandas object called '[[1 2]\n",
       " [3 4]]'. It is a '<class 'numpy.ndarray'>'"
      ]
     },
     "execution_count": 185,
     "metadata": {},
     "output_type": "execute_result"
    }
   ],
   "source": [
    "np_test"
   ]
  },
  {
   "cell_type": "code",
   "execution_count": 162,
   "metadata": {},
   "outputs": [
    {
     "ename": "TypeError",
     "evalue": "'DataFrame' object is not subscriptable",
     "output_type": "error",
     "traceback": [
      "\u001b[0;31m---------------------------------------------------------------------------\u001b[0m",
      "\u001b[0;31mTypeError\u001b[0m                                 Traceback (most recent call last)",
      "\u001b[0;32m<ipython-input-162-c0a566b81e5c>\u001b[0m in \u001b[0;36m<module>\u001b[0;34m\u001b[0m\n\u001b[0;32m----> 1\u001b[0;31m \u001b[0mnp_test\u001b[0m\u001b[0;34m.\u001b[0m\u001b[0mcol\u001b[0m\u001b[0;34m(\u001b[0m\u001b[0;34m'haha'\u001b[0m\u001b[0;34m)\u001b[0m\u001b[0;34m\u001b[0m\u001b[0;34m\u001b[0m\u001b[0m\n\u001b[0m",
      "\u001b[0;32m<ipython-input-159-df183388b3a7>\u001b[0m in \u001b[0;36mcol\u001b[0;34m(self, colname)\u001b[0m\n\u001b[1;32m     27\u001b[0m     \u001b[0;32mdef\u001b[0m \u001b[0mcol\u001b[0m\u001b[0;34m(\u001b[0m\u001b[0mself\u001b[0m\u001b[0;34m,\u001b[0m \u001b[0mcolname\u001b[0m\u001b[0;34m)\u001b[0m\u001b[0;34m:\u001b[0m\u001b[0;34m\u001b[0m\u001b[0;34m\u001b[0m\u001b[0m\n\u001b[1;32m     28\u001b[0m         \u001b[0;32mif\u001b[0m \u001b[0mcolname\u001b[0m \u001b[0;32min\u001b[0m \u001b[0mself\u001b[0m\u001b[0;34m.\u001b[0m\u001b[0mcolnames\u001b[0m\u001b[0;34m:\u001b[0m\u001b[0;34m\u001b[0m\u001b[0;34m\u001b[0m\u001b[0m\n\u001b[0;32m---> 29\u001b[0;31m             \u001b[0;32mreturn\u001b[0m \u001b[0mself\u001b[0m\u001b[0;34m[\u001b[0m\u001b[0;34m:\u001b[0m\u001b[0;34m,\u001b[0m\u001b[0mself\u001b[0m\u001b[0;34m.\u001b[0m\u001b[0mcolnames\u001b[0m\u001b[0;34m.\u001b[0m\u001b[0mindex\u001b[0m\u001b[0;34m(\u001b[0m\u001b[0mcolname\u001b[0m\u001b[0;34m)\u001b[0m\u001b[0;34m]\u001b[0m\u001b[0;34m\u001b[0m\u001b[0;34m\u001b[0m\u001b[0m\n\u001b[0m\u001b[1;32m     30\u001b[0m \u001b[0;34m\u001b[0m\u001b[0m\n\u001b[1;32m     31\u001b[0m     \u001b[0;32mdef\u001b[0m \u001b[0m__repr__\u001b[0m\u001b[0;34m(\u001b[0m\u001b[0mself\u001b[0m\u001b[0;34m)\u001b[0m\u001b[0;34m:\u001b[0m\u001b[0;34m\u001b[0m\u001b[0;34m\u001b[0m\u001b[0m\n",
      "\u001b[0;31mTypeError\u001b[0m: 'DataFrame' object is not subscriptable"
     ]
    }
   ],
   "source": [
    "np_test.col('haha')"
   ]
  },
  {
   "cell_type": "code",
   "execution_count": 172,
   "metadata": {},
   "outputs": [
    {
     "data": {
      "text/plain": [
       "ie_pandas object called '[[1 2]\n",
       " [3 4]\n",
       " [5 6]]'. It is a '<class 'numpy.ndarray'>'"
      ]
     },
     "execution_count": 172,
     "metadata": {},
     "output_type": "execute_result"
    }
   ],
   "source": [
    "np_test"
   ]
  },
  {
   "cell_type": "code",
   "execution_count": 27,
   "metadata": {},
   "outputs": [
    {
     "data": {
      "text/plain": [
       "list"
      ]
     },
     "execution_count": 27,
     "metadata": {},
     "output_type": "execute_result"
    }
   ],
   "source": [
    "type([[1,2],[3,4]])"
   ]
  },
  {
   "cell_type": "code",
   "execution_count": null,
   "metadata": {},
   "outputs": [],
   "source": []
  },
  {
   "cell_type": "code",
   "execution_count": null,
   "metadata": {},
   "outputs": [],
   "source": [
    "# class DataFrame(object):\n",
    "#     def __init__(self, d, index=None):\n",
    "#         self.index = {}\n",
    "#         if index:\n",
    "#             pass\n",
    "#             # self.index = DataFrame({k: v for k, v in d.items() if k in index})\n",
    "\n",
    "#         lens = None\n",
    "#         self.d = {}\n",
    "#         if isinstance(d, list):\n",
    "#             d2 = {}\n",
    "#             print(d)\n",
    "#             for row in d:\n",
    "#                 print(row)\n",
    "#                 for k, v in row.items():\n",
    "#                     if k not in d2:\n",
    "#                         d2[k] = []\n",
    "#                     d2[k].append(v)\n",
    "#             d = d2\n",
    "#         if isinstance(d, dict):\n",
    "#             for k,v in d.items():\n",
    "#                 if lens:\n",
    "#                     if len(v) != lens:\n",
    "#                         raise Exception(\"Values must be same length\")\n",
    "#                 else:\n",
    "#                     lens = len(v)\n",
    "#             for k, v in d.items():\n",
    "#                 if isinstance(v, list):\n",
    "#                     v = Series(v)\n",
    "#                 self.d[k] = v\n",
    "\n",
    "#     def _to_prettytable(self):\n",
    "#         t = PrettyTable()\n",
    "#         if \"index\" in self.columns():\n",
    "#             v = self['index']\n",
    "#             display_v = []\n",
    "#             for val in getattr(v, \"x\", v):\n",
    "#                 if val not in display_v:\n",
    "#                     display_v.append(val)\n",
    "#                 else:\n",
    "#                     display_v.append(\"\")\n",
    "#             t.add_column(\"index\", display_v)\n",
    "\n",
    "#         for k, v in self:\n",
    "#             if k==\"index\":\n",
    "#                 continue\n",
    "#             t.add_column(k, getattr(v, \"x\", v))\n",
    "#         return t\n",
    "\n",
    "#     def __repr__(self):\n",
    "#         return str(self.head())\n",
    "    \n",
    "#     def __str__(self):\n",
    "#         return str(self._to_prettytable())\n",
    "    \n",
    "#     def __html__(self):\n",
    "#         return self._to_prettytable().get_html_string()\n",
    "\n",
    "#     def __iter__(self):\n",
    "#         for k,v in self.d.items():\n",
    "#             yield k, v\n",
    "\n",
    "#     def __getattr__(self, name):\n",
    "#         return self.d[name]\n",
    "\n",
    "#     def __setitem__(self, key, value):\n",
    "#         if isinstance(value, Series):\n",
    "#             self.d[key] = value\n",
    "#         elif isinstance(value, list):\n",
    "#             self.d[key] = Series(value)\n",
    "#         else:\n",
    "#             self.d[key] = Series([value for _ in range(len(self))])\n",
    "        \n",
    "#     def __getitem__(self, idx):\n",
    "#         if isinstance(idx, str):\n",
    "#             return self.d[idx]\n",
    "#         elif isinstance(idx, int):\n",
    "#             idx = [idx]\n",
    "#         elif isinstance(idx, list):\n",
    "#             if isinstance(idx[0], str):\n",
    "#                 return DataFrame({k: v for k, v in self if k in idx})\n",
    "#         elif isinstance(idx, slice):\n",
    "#             return DataFrame({ k: self.d[k][idx] for k in self.columns() })\n",
    "#         elif isinstance(idx, tuple):\n",
    "#             row_idx, col_idx = idx\n",
    "#             return DataFrame({ k: self.d[k][row_idx] for k in self.columns()[col_idx] })\n",
    "#         return DataFrame({ k: self.d[k][idx] for k in self.columns() })\n",
    "\n",
    "#     def __eq__(self, x):\n",
    "#         return DataFrame({k: v==x for k,v in self})\n",
    "\n",
    "#     def __add__(self, d2):\n",
    "#         for k,v in d2.d.items():\n",
    "#             self.d[k] += v\n",
    "#         return self\n",
    "\n",
    "#     def __len__(self):\n",
    "#         first_col = self.columns()[0]\n",
    "#         return len(self[first_col])\n",
    "\n",
    "#     def dtypes(self):\n",
    "#         return DataFrame({\n",
    "#             \"column\": [k for k,v in self],\n",
    "#             \"dtype\": [v.dtype for k,v in self]\n",
    "#             })\n",
    "\n",
    "#     def size(self):\n",
    "#         return len(self)\n",
    "\n",
    "#     def columns(self):\n",
    "#         return self.d.keys()\n",
    "\n",
    "#     def is_null(self):\n",
    "#         return DataFrame({k: v.is_null() for k, v in self })\n",
    "\n",
    "#     def iterrows(self):\n",
    "#         for i in range(len(self)):\n",
    "#             yield self[i]\n",
    "\n",
    "#     def head(self, n=6):\n",
    "#         n = min(n, len(self))\n",
    "#         return self[0:n]\n",
    "\n",
    "#     def tail(self, n=6):\n",
    "#         n = min(n, len(self))\n",
    "#         return self[(len(self)-n):len(self)]\n",
    "\n",
    "#     def groupby(self, by):\n",
    "#         if isinstance(by, str):\n",
    "#             by = [by]\n",
    "\n",
    "#         keys = {}\n",
    "#         for k in by:\n",
    "#             keys[k] = sorted(self[k].unique())\n",
    "#         groups = {}\n",
    "#         for row in self.iterrows():\n",
    "#             _group = []\n",
    "#             for k, levels in keys.items():\n",
    "#                 for level in levels:\n",
    "#                     if all(level==row[k]):\n",
    "#                         _group.append(row[k].x[0])\n",
    "#             _group = tuple(_group)\n",
    "#             cols = [col for col in row.columns() if col not in by]\n",
    "#             if _group not in groups:\n",
    "#                 groups[_group] = row[cols]\n",
    "#             else:\n",
    "#                 groups[_group] += row[cols]\n",
    "\n",
    "#         return GroupedDataFrame(groups.keys(), groups.values())\n",
    "\n",
    "#     def apply(self, func):\n",
    "#         for k, v in self:\n",
    "#             def f2(x):\n",
    "#                 try:\n",
    "#                     return func(x)\n",
    "#                 except:\n",
    "#                     return None\n",
    "#             self.d[k] = v.apply(f2)\n",
    "#         return self\n",
    "\n",
    "#     def describe(self):\n",
    "#         df = OrderedDict([(\"names\", [\"mean\", \"stdev\", \"count\", \"min\", \"max\"])])\n",
    "#         for k, v in self:\n",
    "#             if stats.is_numeric(v.x)==False:\n",
    "#                 continue\n",
    "#             df[k] = [\n",
    "#                 stats.mean(v.x),\n",
    "#                 stats.stdev(v.x),\n",
    "#                 len([i for i in v if i is not None]),\n",
    "#                 v.min(),\n",
    "#                 v.max()\n",
    "#             ]\n",
    "#         return DataFrame(df)\n"
   ]
  },
  {
   "cell_type": "code",
   "execution_count": null,
   "metadata": {},
   "outputs": [],
   "source": [
    "a = [[1, 2, 3, 4],[12, 3, 4, 5]]"
   ]
  },
  {
   "cell_type": "code",
   "execution_count": null,
   "metadata": {},
   "outputs": [],
   "source": [
    "a = np.array(a)"
   ]
  },
  {
   "cell_type": "code",
   "execution_count": null,
   "metadata": {},
   "outputs": [],
   "source": [
    "PrettyTable.a"
   ]
  },
  {
   "cell_type": "code",
   "execution_count": null,
   "metadata": {},
   "outputs": [],
   "source": [
    "DataFrame(a)"
   ]
  },
  {
   "cell_type": "code",
   "execution_count": 186,
   "metadata": {},
   "outputs": [],
   "source": [
    "class DataFrame:\n",
    "\n",
    "    def __init__(self, input_object):\n",
    "        self.input_object = input_object\n",
    "        self.input_object = to_array(self.input_object)\n",
    "\n",
    "    def __repr__(self):\n",
    "        return f\"This is {self.input_object}\"\n",
    "\n",
    "\n",
    "def to_array(obj):\n",
    "    \"\"\"\n",
    "    Function to convert any object to numpy array\n",
    "    \"\"\"\n",
    "\n",
    "    if str(type(obj)) == \"<class 'numpy.ndarray'>\":\n",
    "        return obj\n",
    "    elif type(obj) == list and obj[0] == [int or str or float]:\n",
    "        return np.array(obj)\n",
    "    elif type(obj) == dict:\n",
    "        return dict_to_array(obj)\n",
    "    elif type(obj) == list and obj[0] == list:\n",
    "        for lst in range(obj-1):\n",
    "            if len(obj[lst]) == len(obj[lst+1]):\n",
    "                return np.array(obj)\n",
    "\n",
    "\n",
    "def dict_to_array(dic):\n",
    "    \"\"\"\n",
    "    Function to convert dictionaries to numpy arrays\n",
    "    \"\"\"    \n",
    "    \n",
    "    # From dictionary of lists\n",
    "    if type(list(dic.items())[0][1]) == list:\n",
    "        arr_dic = np.array(list(dic.items()))\n",
    "        ls =[]\n",
    "        for i in arr_dic:\n",
    "            for j in i:\n",
    "                if type(j)!= list:\n",
    "                    ls.append(j)\n",
    "                elif type(j)==list:            \n",
    "                    for k in j:\n",
    "                         ls.append(k)\n",
    "        ls2=[]\n",
    "        for item in range(int((len(ls)/len(arr_dic)))):\n",
    "            counter = 0\n",
    "            for ii in range(int(len(arr_dic))):\n",
    "                ls2.append(ls[item+counter])\n",
    "                counter+=int((arr_dic.itemsize/2)+1)\n",
    "        return np.reshape(np.array(ls2),((int(arr_dic.itemsize/2)+1,len(arr_dic))))\n",
    "    \n",
    "    \n",
    "    # From dictionary of numpy arrays\n",
    "    elif str(type(list(dic.items())[0][1])) == \"<class 'numpy.ndarray'>\":\n",
    "        arr_dic = np.array(list(my_dict.items()))\n",
    "        ls =[]\n",
    "        for i in arr_dic:\n",
    "            for j in i:\n",
    "                if str(type(j))!=\"<class 'numpy.ndarray'>\":\n",
    "                    ls.append(j)\n",
    "                elif str(type(j))==\"<class 'numpy.ndarray'>\":            \n",
    "                    for k in j:\n",
    "                        ls.append(k)\n",
    "        ls2=[]\n",
    "        for item in range(int((len(ls)/len(arr_dic)))):\n",
    "            counter = 0\n",
    "            for ii in range(int(len(arr_dic))):\n",
    "                ls2.append(ls[item+counter])\n",
    "                counter+=int((arr_dic.itemsize/2))\n",
    "        return(np.reshape(np.array(ls2),((int(arr_dic.itemsize/2),len(arr_dic)))))\n"
   ]
  },
  {
   "cell_type": "code",
   "execution_count": 194,
   "metadata": {},
   "outputs": [],
   "source": [
    "df = [10,1]"
   ]
  },
  {
   "cell_type": "code",
   "execution_count": 195,
   "metadata": {},
   "outputs": [
    {
     "data": {
      "text/plain": [
       "10"
      ]
     },
     "execution_count": 195,
     "metadata": {},
     "output_type": "execute_result"
    }
   ],
   "source": [
    "df[0]"
   ]
  },
  {
   "cell_type": "code",
   "execution_count": 200,
   "metadata": {},
   "outputs": [],
   "source": [
    "df2 = to_array(df)"
   ]
  },
  {
   "cell_type": "code",
   "execution_count": 202,
   "metadata": {},
   "outputs": [
    {
     "ename": "TypeError",
     "evalue": "'NoneType' object is not subscriptable",
     "output_type": "error",
     "traceback": [
      "\u001b[0;31m---------------------------------------------------------------------------\u001b[0m",
      "\u001b[0;31mTypeError\u001b[0m                                 Traceback (most recent call last)",
      "\u001b[0;32m<ipython-input-202-b9d84e2cef5a>\u001b[0m in \u001b[0;36m<module>\u001b[0;34m\u001b[0m\n\u001b[0;32m----> 1\u001b[0;31m \u001b[0mdf2\u001b[0m\u001b[0;34m[\u001b[0m\u001b[0;36m0\u001b[0m\u001b[0;34m]\u001b[0m\u001b[0;34m\u001b[0m\u001b[0;34m\u001b[0m\u001b[0m\n\u001b[0m",
      "\u001b[0;31mTypeError\u001b[0m: 'NoneType' object is not subscriptable"
     ]
    }
   ],
   "source": [
    "df2[0]"
   ]
  },
  {
   "cell_type": "code",
   "execution_count": null,
   "metadata": {},
   "outputs": [],
   "source": []
  }
 ],
 "metadata": {
  "kernelspec": {
   "display_name": "Python 3",
   "language": "python",
   "name": "python3"
  },
  "language_info": {
   "codemirror_mode": {
    "name": "ipython",
    "version": 3
   },
   "file_extension": ".py",
   "mimetype": "text/x-python",
   "name": "python",
   "nbconvert_exporter": "python",
   "pygments_lexer": "ipython3",
   "version": "3.7.3"
  },
  "toc": {
   "base_numbering": 1,
   "nav_menu": {},
   "number_sections": true,
   "sideBar": true,
   "skip_h1_title": true,
   "title_cell": "Table of Contents",
   "title_sidebar": "Contents",
   "toc_cell": true,
   "toc_position": {},
   "toc_section_display": true,
   "toc_window_display": false
  }
 },
 "nbformat": 4,
 "nbformat_minor": 2
}
