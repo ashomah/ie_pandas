{
 "cells": [
  {
   "cell_type": "code",
   "execution_count": 1,
   "metadata": {
    "scrolled": false
   },
   "outputs": [
    {
     "name": "stdout",
     "output_type": "stream",
     "text": [
      "Obtaining file:///Users/Gerald/Personal%20Drive/IE%20MBD/Term%20III/Python%20Advanced/ie_pandas\n",
      "Requirement already satisfied: numpy in /anaconda3/envs/only_np/lib/python3.7/site-packages (from ie-pandas==1.0) (1.16.2)\n",
      "Installing collected packages: ie-pandas\n",
      "  Found existing installation: ie-pandas 1.0\n",
      "    Uninstalling ie-pandas-1.0:\n",
      "      Successfully uninstalled ie-pandas-1.0\n",
      "  Running setup.py develop for ie-pandas\n",
      "Successfully installed ie-pandas\n"
     ]
    }
   ],
   "source": [
    "!pip install -e ."
   ]
  },
  {
   "cell_type": "code",
   "execution_count": 2,
   "metadata": {},
   "outputs": [
    {
     "name": "stdout",
     "output_type": "stream",
     "text": [
      "Done __init__.py\n"
     ]
    }
   ],
   "source": [
    "from ie_pandas import DataFrame"
   ]
  },
  {
   "cell_type": "code",
   "execution_count": 3,
   "metadata": {},
   "outputs": [],
   "source": [
    "a = [[2,4, 12,4, 12,41, 12,43], [12,42,41,24,42,0,4, 1],[2,0,2,14, 4, 5, 1, 910]]"
   ]
  },
  {
   "cell_type": "code",
   "execution_count": 4,
   "metadata": {},
   "outputs": [],
   "source": [
    "b = DataFrame(a)"
   ]
  },
  {
   "cell_type": "code",
   "execution_count": 5,
   "metadata": {},
   "outputs": [
    {
     "data": {
      "text/plain": [
       "    0   1    2\n",
       "0   2  12    2\n",
       "1   4  42    0\n",
       "2  12  41    2\n",
       "3   4  24   14\n",
       "4  12  42    4\n",
       "5  41   0    5\n",
       "6  12   4    1\n",
       "7  43   1  910"
      ]
     },
     "execution_count": 5,
     "metadata": {},
     "output_type": "execute_result"
    }
   ],
   "source": [
    "b"
   ]
  },
  {
   "cell_type": "code",
   "execution_count": 6,
   "metadata": {},
   "outputs": [
    {
     "name": "stdout",
     "output_type": "stream",
     "text": [
      "{'0': 2, '1': 12, '2': 2}\n",
      "{'0': 4, '1': 42, '2': 0}\n",
      "{'0': 12, '1': 41, '2': 2}\n",
      "{'0': 4, '1': 24, '2': 14}\n"
     ]
    }
   ],
   "source": [
    "b.head()"
   ]
  },
  {
   "cell_type": "code",
   "execution_count": 7,
   "metadata": {},
   "outputs": [
    {
     "data": {
      "text/plain": [
       "[12, 42, 4]"
      ]
     },
     "execution_count": 7,
     "metadata": {},
     "output_type": "execute_result"
    }
   ],
   "source": [
    "b.get_row(4)"
   ]
  },
  {
   "cell_type": "code",
   "execution_count": null,
   "metadata": {},
   "outputs": [],
   "source": [
    "len(b)"
   ]
  },
  {
   "cell_type": "code",
   "execution_count": null,
   "metadata": {},
   "outputs": [],
   "source": []
  }
 ],
 "metadata": {
  "kernelspec": {
   "display_name": "Python 3",
   "language": "python",
   "name": "python3"
  },
  "language_info": {
   "codemirror_mode": {
    "name": "ipython",
    "version": 3
   },
   "file_extension": ".py",
   "mimetype": "text/x-python",
   "name": "python",
   "nbconvert_exporter": "python",
   "pygments_lexer": "ipython3",
   "version": "3.7.3"
  }
 },
 "nbformat": 4,
 "nbformat_minor": 2
}
