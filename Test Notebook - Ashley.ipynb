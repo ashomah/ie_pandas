{
 "cells": [
  {
   "cell_type": "code",
   "execution_count": 1,
   "metadata": {
    "scrolled": true
   },
   "outputs": [
    {
     "name": "stdout",
     "output_type": "stream",
     "text": [
      "Obtaining file:///Users/Ashley/Documents/GitHub/ie_pandas\n",
      "Requirement already satisfied: numpy in /anaconda3/envs/only_np/lib/python3.7/site-packages (from ie-pandas==0.1.dev0) (1.16.2)\n",
      "Installing collected packages: ie-pandas\n",
      "  Found existing installation: ie-pandas 0.1.dev0\n",
      "    Uninstalling ie-pandas-0.1.dev0:\n",
      "      Successfully uninstalled ie-pandas-0.1.dev0\n",
      "  Running setup.py develop for ie-pandas\n",
      "Successfully installed ie-pandas\n"
     ]
    }
   ],
   "source": [
    "!pip install -e ."
   ]
  },
  {
   "cell_type": "code",
   "execution_count": 2,
   "metadata": {
    "scrolled": false
   },
   "outputs": [
    {
     "name": "stdout",
     "output_type": "stream",
     "text": [
      "Done __init__.py\n"
     ]
    }
   ],
   "source": [
    "from ie_pandas import DataFrame"
   ]
  },
  {
   "cell_type": "code",
   "execution_count": 3,
   "metadata": {},
   "outputs": [
    {
     "data": {
      "text/plain": [
       "['/Users/Ashley/Documents/GitHub/ie_pandas',\n",
       " '/anaconda3/envs/only_np/lib/python37.zip',\n",
       " '/anaconda3/envs/only_np/lib/python3.7',\n",
       " '/anaconda3/envs/only_np/lib/python3.7/lib-dynload',\n",
       " '',\n",
       " '/anaconda3/envs/only_np/lib/python3.7/site-packages',\n",
       " '/Users/Ashley/Documents/GitHub/ie_pandas/src',\n",
       " '/anaconda3/envs/only_np/lib/python3.7/site-packages/IPython/extensions',\n",
       " '/Users/Ashley/.ipython']"
      ]
     },
     "execution_count": 3,
     "metadata": {},
     "output_type": "execute_result"
    }
   ],
   "source": [
    "import sys\n",
    "sys.path"
   ]
  },
  {
   "cell_type": "code",
   "execution_count": 8,
   "metadata": {},
   "outputs": [],
   "source": [
    "mylist = [[1, 2, 3],\n",
    "          [1.0, 2.3, 4.5],\n",
    "          ['a', 'b', 'c'],\n",
    "          [True, False, True]]"
   ]
  },
  {
   "cell_type": "code",
   "execution_count": 9,
   "metadata": {
    "scrolled": false
   },
   "outputs": [
    {
     "data": {
      "text/plain": [
       "{0: [1, 2, 3], 1: [1.0, 2.3, 4.5], 2: ['a', 'b', 'c'], 3: [True, False, True]}\n",
       "\n",
       "It is a dict.\n",
       "\n",
       "Full content:\n",
       "{0: [1, 2, 3], 1: [1.0, 2.3, 4.5], 2: ['a', 'b', 'c'], 3: [True, False, True], 'colindex': [0, 1, 2, 3], 'rowindex': [0, 1, 2]}."
      ]
     },
     "execution_count": 9,
     "metadata": {},
     "output_type": "execute_result"
    }
   ],
   "source": [
    "df = DataFrame(mylist)\n",
    "df"
   ]
  },
  {
   "cell_type": "code",
   "execution_count": null,
   "metadata": {},
   "outputs": [],
   "source": [
    "df = DataFrame(mylist, colindex = ['C1', 'C2', 'C3', 'C4'])\n",
    "df"
   ]
  },
  {
   "cell_type": "code",
   "execution_count": null,
   "metadata": {},
   "outputs": [],
   "source": [
    "df = DataFrame(mylist, rowindex = ['R1', 'R2', 'R3'])\n",
    "df"
   ]
  },
  {
   "cell_type": "code",
   "execution_count": null,
   "metadata": {},
   "outputs": [],
   "source": [
    "df = DataFrame(mylist, colindex = ['C1', 'C2', 'C3', 'C4'], rowindex = ['R1', 'R2', 'R3'])\n",
    "df"
   ]
  },
  {
   "cell_type": "code",
   "execution_count": null,
   "metadata": {},
   "outputs": [],
   "source": [
    "df['C1']"
   ]
  },
  {
   "cell_type": "code",
   "execution_count": null,
   "metadata": {},
   "outputs": [],
   "source": [
    "## df[df['colindex'][1]]"
   ]
  },
  {
   "cell_type": "code",
   "execution_count": null,
   "metadata": {},
   "outputs": [],
   "source": [
    "DataFrame(10)"
   ]
  },
  {
   "cell_type": "code",
   "execution_count": null,
   "metadata": {},
   "outputs": [],
   "source": [
    "type(df)"
   ]
  },
  {
   "cell_type": "code",
   "execution_count": null,
   "metadata": {},
   "outputs": [],
   "source": [
    "# df.pretty(['b','a'])"
   ]
  },
  {
   "cell_type": "code",
   "execution_count": null,
   "metadata": {},
   "outputs": [],
   "source": []
  }
 ],
 "metadata": {
  "kernelspec": {
   "display_name": "Python 3",
   "language": "python",
   "name": "python3"
  },
  "language_info": {
   "codemirror_mode": {
    "name": "ipython",
    "version": 3
   },
   "file_extension": ".py",
   "mimetype": "text/x-python",
   "name": "python",
   "nbconvert_exporter": "python",
   "pygments_lexer": "ipython3",
   "version": "3.7.3"
  },
  "toc": {
   "base_numbering": 1,
   "nav_menu": {},
   "number_sections": false,
   "sideBar": true,
   "skip_h1_title": true,
   "title_cell": "Table of Contents",
   "title_sidebar": "Contents",
   "toc_cell": false,
   "toc_position": {},
   "toc_section_display": true,
   "toc_window_display": false
  }
 },
 "nbformat": 4,
 "nbformat_minor": 2
}
