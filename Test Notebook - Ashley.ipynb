{
 "cells": [
  {
   "cell_type": "code",
   "execution_count": 1,
   "metadata": {},
   "outputs": [
    {
     "name": "stdout",
     "output_type": "stream",
     "text": [
      "Obtaining file:///Users/Ashley/Documents/GitHub/ie_pandas\n",
      "Requirement already satisfied: numpy in /anaconda3/envs/only_np/lib/python3.7/site-packages (from ie-pandas==0.1.dev0) (1.16.2)\n",
      "Installing collected packages: ie-pandas\n",
      "  Found existing installation: ie-pandas 0.1.dev0\n",
      "    Uninstalling ie-pandas-0.1.dev0:\n",
      "      Successfully uninstalled ie-pandas-0.1.dev0\n",
      "  Running setup.py develop for ie-pandas\n",
      "Successfully installed ie-pandas\n"
     ]
    }
   ],
   "source": [
    "!pip install -e ."
   ]
  },
  {
   "cell_type": "code",
   "execution_count": 2,
   "metadata": {
    "scrolled": true
   },
   "outputs": [
    {
     "name": "stdout",
     "output_type": "stream",
     "text": [
      "Done __init__.py\n"
     ]
    }
   ],
   "source": [
    "from ie_pandas import DataFrame"
   ]
  },
  {
   "cell_type": "code",
   "execution_count": 15,
   "metadata": {},
   "outputs": [
    {
     "data": {
      "text/plain": [
       "       0\n",
       "0   True\n",
       "1  False"
      ]
     },
     "execution_count": 15,
     "metadata": {},
     "output_type": "execute_result"
    }
   ],
   "source": [
    "liss = [True, False]\n",
    "liss_pandas = DataFrame(liss, axis=0)\n",
    "liss_pandas"
   ]
  },
  {
   "cell_type": "code",
   "execution_count": null,
   "metadata": {},
   "outputs": [],
   "source": []
  },
  {
   "cell_type": "code",
   "execution_count": null,
   "metadata": {},
   "outputs": [],
   "source": []
  },
  {
   "cell_type": "code",
   "execution_count": null,
   "metadata": {},
   "outputs": [],
   "source": [
    "dic = {'col_1': [3.0, 2.0, 1.0, 0.0],\n",
    "       'col_2': ['as', 'bs', 'cs', 'ds'],\n",
    "       'col_3': [3, 2, 1, 0],\n",
    "       'col_4': [True, True, False, True]}\n",
    "dic"
   ]
  },
  {
   "cell_type": "code",
   "execution_count": null,
   "metadata": {},
   "outputs": [],
   "source": [
    "dic_pandas = DataFrame(dic, rowindex = ['R1', 'R2', 'R3', 'R4'], colindex=['A', 'B', 'C', 'D'], axis=0)\n",
    "dic_pandas"
   ]
  },
  {
   "cell_type": "code",
   "execution_count": null,
   "metadata": {
    "scrolled": false
   },
   "outputs": [],
   "source": [
    "dic_pandas.df"
   ]
  },
  {
   "cell_type": "code",
   "execution_count": null,
   "metadata": {},
   "outputs": [],
   "source": [
    "dic_row = {'col_1': [3.0, 'as', 3, True],\n",
    "           'col_2': [2.0, 'bs', 2, True],\n",
    "           'col_3': [1.0, 'cs', 1, False],\n",
    "           'col_4': [0.0, 'ds', 0, True]}\n",
    "dic_row"
   ]
  },
  {
   "cell_type": "code",
   "execution_count": null,
   "metadata": {},
   "outputs": [],
   "source": [
    "dic_pandas_row = DataFrame(dic_row, rowindex = ['R1', 'R2', 'R3', 'R4'], colindex=['A', 'B', 'C', 'D'], axis=1)\n",
    "dic_pandas_row"
   ]
  },
  {
   "cell_type": "code",
   "execution_count": null,
   "metadata": {
    "scrolled": true
   },
   "outputs": [],
   "source": [
    "dic_pandas_row.df"
   ]
  },
  {
   "cell_type": "code",
   "execution_count": null,
   "metadata": {},
   "outputs": [],
   "source": [
    "import numpy as np\n",
    "dic_np = {'col_1': np.array([3.0, 2.0, 1.0, 0.0]),\n",
    "          'col_2': np.array(['as', 'bs', 'cs', 'ds']),\n",
    "          'col_3': np.array([3, 2, 1, 0]),\n",
    "          'col_4': np.array([True, True, False, True])}\n",
    "dic_np"
   ]
  },
  {
   "cell_type": "code",
   "execution_count": null,
   "metadata": {},
   "outputs": [],
   "source": [
    "dic_pandas_np = DataFrame(dic_np, rowindex = ['R1', 'R2', 'R3', 'R4'], colindex=['A', 'B', 'C', 'D'], axis=0)\n",
    "dic_pandas_np"
   ]
  },
  {
   "cell_type": "code",
   "execution_count": null,
   "metadata": {
    "scrolled": true
   },
   "outputs": [],
   "source": [
    "dic_pandas_np.df"
   ]
  },
  {
   "cell_type": "code",
   "execution_count": null,
   "metadata": {},
   "outputs": [],
   "source": [
    "import numpy as np\n",
    "dic_row_np = {'col_1': np.array([3.0, 'as', 3, True]),\n",
    "           'col_2': np.array([2.0, 'bs', 2, True]),\n",
    "           'col_3': np.array([1.0, 'cs', 1, False]),\n",
    "           'col_4': np.array([0.0, 'ds', 0, True])}\n",
    "dic_row_np"
   ]
  },
  {
   "cell_type": "code",
   "execution_count": null,
   "metadata": {},
   "outputs": [],
   "source": [
    "dic_pandas_row_np = DataFrame(dic_row_np, rowindex = ['R1', 'R2', 'R3', 'R4'], colindex=['A', 'B', 'C', 'D'], axis=1)\n",
    "dic_pandas_row_np"
   ]
  },
  {
   "cell_type": "code",
   "execution_count": null,
   "metadata": {
    "scrolled": true
   },
   "outputs": [],
   "source": [
    "dic_pandas_row_np.df"
   ]
  },
  {
   "cell_type": "code",
   "execution_count": null,
   "metadata": {},
   "outputs": [],
   "source": []
  },
  {
   "cell_type": "code",
   "execution_count": null,
   "metadata": {},
   "outputs": [],
   "source": []
  },
  {
   "cell_type": "code",
   "execution_count": null,
   "metadata": {},
   "outputs": [],
   "source": [
    "mylist = [[1, 2, 3],\n",
    "          [1.0, 2.3, 4.5],\n",
    "          ['a', 'b', 'c'],\n",
    "          [True, False, True]]"
   ]
  },
  {
   "cell_type": "code",
   "execution_count": null,
   "metadata": {},
   "outputs": [],
   "source": [
    "# import numpy as np\n",
    "# npmylist = np.array(mylist)\n",
    "# print(type(npmylist))\n",
    "# npmylist"
   ]
  },
  {
   "cell_type": "code",
   "execution_count": null,
   "metadata": {},
   "outputs": [],
   "source": [
    "# df_npmylist = DataFrame(npmylist)\n",
    "# df_npmylist"
   ]
  },
  {
   "cell_type": "code",
   "execution_count": null,
   "metadata": {},
   "outputs": [],
   "source": [
    "df = DataFrame(mylist, axis = 0)\n",
    "df"
   ]
  },
  {
   "cell_type": "code",
   "execution_count": null,
   "metadata": {
    "scrolled": true
   },
   "outputs": [],
   "source": [
    "df.df"
   ]
  },
  {
   "cell_type": "code",
   "execution_count": null,
   "metadata": {},
   "outputs": [],
   "source": [
    "df.colindex"
   ]
  },
  {
   "cell_type": "code",
   "execution_count": null,
   "metadata": {},
   "outputs": [],
   "source": [
    "df.get_row(1)"
   ]
  },
  {
   "cell_type": "code",
   "execution_count": null,
   "metadata": {},
   "outputs": [],
   "source": [
    "df = DataFrame(mylist, colindex = ['C1', 'C2', 'C3', 'C4'])\n",
    "df"
   ]
  },
  {
   "cell_type": "code",
   "execution_count": null,
   "metadata": {},
   "outputs": [],
   "source": [
    "df = DataFrame(mylist, rowindex = ['R1', 'R2', 'R3'])\n",
    "df"
   ]
  },
  {
   "cell_type": "code",
   "execution_count": null,
   "metadata": {},
   "outputs": [],
   "source": [
    "df = DataFrame(mylist, colindex = ['C1', 'C2', 'C3', 'C4'], rowindex = ['R1', 'R2', 'R3'])\n",
    "df"
   ]
  },
  {
   "cell_type": "code",
   "execution_count": null,
   "metadata": {},
   "outputs": [],
   "source": [
    "df[3]"
   ]
  },
  {
   "cell_type": "code",
   "execution_count": null,
   "metadata": {},
   "outputs": [],
   "source": [
    "## df[df['colindex'][1]]"
   ]
  },
  {
   "cell_type": "code",
   "execution_count": null,
   "metadata": {},
   "outputs": [],
   "source": [
    "DataFrame(10)"
   ]
  },
  {
   "cell_type": "code",
   "execution_count": null,
   "metadata": {},
   "outputs": [],
   "source": [
    "type(df)"
   ]
  },
  {
   "cell_type": "code",
   "execution_count": null,
   "metadata": {},
   "outputs": [],
   "source": [
    "# df.pretty(['b','a'])"
   ]
  },
  {
   "cell_type": "code",
   "execution_count": null,
   "metadata": {},
   "outputs": [],
   "source": []
  }
 ],
 "metadata": {
  "kernelspec": {
   "display_name": "Python 3",
   "language": "python",
   "name": "python3"
  },
  "language_info": {
   "codemirror_mode": {
    "name": "ipython",
    "version": 3
   },
   "file_extension": ".py",
   "mimetype": "text/x-python",
   "name": "python",
   "nbconvert_exporter": "python",
   "pygments_lexer": "ipython3",
   "version": "3.7.3"
  },
  "toc": {
   "base_numbering": 1,
   "nav_menu": {},
   "number_sections": false,
   "sideBar": true,
   "skip_h1_title": true,
   "title_cell": "Table of Contents",
   "title_sidebar": "Contents",
   "toc_cell": false,
   "toc_position": {},
   "toc_section_display": true,
   "toc_window_display": false
  }
 },
 "nbformat": 4,
 "nbformat_minor": 2
}
