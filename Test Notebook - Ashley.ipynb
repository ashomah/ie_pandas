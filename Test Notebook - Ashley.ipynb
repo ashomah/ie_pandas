{
 "cells": [
  {
   "cell_type": "code",
   "execution_count": 1,
   "metadata": {},
   "outputs": [
    {
     "name": "stdout",
     "output_type": "stream",
     "text": [
      "Obtaining file:///Users/Ashley/Documents/GitHub/ie_pandas\n",
      "Requirement already satisfied: numpy in /anaconda3/envs/only_np/lib/python3.7/site-packages (from ie-pandas==0.1.dev0) (1.16.2)\n",
      "Installing collected packages: ie-pandas\n",
      "  Found existing installation: ie-pandas 0.1.dev0\n",
      "    Uninstalling ie-pandas-0.1.dev0:\n",
      "      Successfully uninstalled ie-pandas-0.1.dev0\n",
      "  Running setup.py develop for ie-pandas\n",
      "Successfully installed ie-pandas\n"
     ]
    }
   ],
   "source": [
    "!pip install -e ."
   ]
  },
  {
   "cell_type": "code",
   "execution_count": 2,
   "metadata": {},
   "outputs": [
    {
     "name": "stdout",
     "output_type": "stream",
     "text": [
      "Done __init__.py\n"
     ]
    }
   ],
   "source": [
    "from ie_pandas import DataFrame"
   ]
  },
  {
   "cell_type": "code",
   "execution_count": 3,
   "metadata": {},
   "outputs": [],
   "source": [
    "mylist = [[1, 2+3, 3],\n",
    "          [1.0, 2.3, 4.5],\n",
    "          ['a', 'b', 'c'],\n",
    "          [True, False, True]]"
   ]
  },
  {
   "cell_type": "code",
   "execution_count": 4,
   "metadata": {},
   "outputs": [
    {
     "name": "stdout",
     "output_type": "stream",
     "text": [
      "<class 'numpy.ndarray'>\n"
     ]
    },
    {
     "data": {
      "text/plain": [
       "array([['1', '2', '3'],\n",
       "       ['1.0', '2.3', '4.5'],\n",
       "       ['a', 'b', 'c'],\n",
       "       ['True', 'False', 'True']], dtype='<U32')"
      ]
     },
     "execution_count": 4,
     "metadata": {},
     "output_type": "execute_result"
    }
   ],
   "source": [
    "import numpy as np\n",
    "npmylist = np.array(mylist)\n",
    "print(type(npmylist))\n",
    "npmylist"
   ]
  },
  {
   "cell_type": "code",
   "execution_count": 5,
   "metadata": {},
   "outputs": [
    {
     "name": "stdout",
     "output_type": "stream",
     "text": [
      "<class 'list'>\n",
      "[['1', '2', '3'], ['1.0', '2.3', '4.5'], ['a', 'b', 'c'], ['True', 'False', 'True']]\n",
      "0 : <class 'list'>\n",
      "1 : <class 'list'>\n",
      "2 : <class 'list'>\n",
      "3 : <class 'list'>\n"
     ]
    },
    {
     "data": {
      "text/plain": [
       "{0: ['1', '2', '3'], 1: ['1.0', '2.3', '4.5'], 2: ['a', 'b', 'c'], 3: ['True', 'False', 'True']}\n",
       "\n",
       "It is a dict.\n",
       "\n",
       "Full content:\n",
       "{0: ['1', '2', '3'], 1: ['1.0', '2.3', '4.5'], 2: ['a', 'b', 'c'], 3: ['True', 'False', 'True'], 'colindex': [0, 1, 2, 3], 'rowindex': [0, 1, 2]}."
      ]
     },
     "execution_count": 5,
     "metadata": {},
     "output_type": "execute_result"
    }
   ],
   "source": [
    "df_npmylist = DataFrame(npmylist)\n",
    "df_npmylist"
   ]
  },
  {
   "cell_type": "code",
   "execution_count": 17,
   "metadata": {
    "scrolled": false
   },
   "outputs": [
    {
     "name": "stdout",
     "output_type": "stream",
     "text": [
      "<class 'list'>\n",
      "[[1, 2, 3], [1.0, 2.3, 4.5], ['a', 'b', 'c'], [True, False, True]]\n",
      "0 : <class 'list'>\n",
      "1 : <class 'list'>\n",
      "2 : <class 'list'>\n",
      "3 : <class 'list'>\n"
     ]
    },
    {
     "data": {
      "text/plain": [
       "{0: [1, 2, 3], 1: [1.0, 2.3, 4.5], 2: ['a', 'b', 'c'], 3: [True, False, True]}\n",
       "\n",
       "It is a dict.\n",
       "\n",
       "Full content:\n",
       "{0: [1, 2, 3], 1: [1.0, 2.3, 4.5], 2: ['a', 'b', 'c'], 3: [True, False, True], 'colindex': [0, 1, 2, 3], 'rowindex': [0, 1, 2]}."
      ]
     },
     "execution_count": 17,
     "metadata": {},
     "output_type": "execute_result"
    }
   ],
   "source": [
    "df = DataFrame(mylist, axis = 0)\n",
    "df"
   ]
  },
  {
   "cell_type": "code",
   "execution_count": 7,
   "metadata": {},
   "outputs": [
    {
     "name": "stdout",
     "output_type": "stream",
     "text": [
      "<class 'list'>\n",
      "[[1, 2, 3], [1.0, 2.3, 4.5], ['a', 'b', 'c'], [True, False, True]]\n",
      "0 : <class 'list'>\n",
      "1 : <class 'list'>\n",
      "2 : <class 'list'>\n",
      "3 : <class 'list'>\n"
     ]
    },
    {
     "data": {
      "text/plain": [
       "{'C1': [1, 2, 3], 'C2': [1.0, 2.3, 4.5], 'C3': ['a', 'b', 'c'], 'C4': [True, False, True]}\n",
       "\n",
       "It is a dict.\n",
       "\n",
       "Full content:\n",
       "{'C1': [1, 2, 3], 'C2': [1.0, 2.3, 4.5], 'C3': ['a', 'b', 'c'], 'C4': [True, False, True], 'colindex': ['C1', 'C2', 'C3', 'C4'], 'rowindex': [0, 1, 2]}."
      ]
     },
     "execution_count": 7,
     "metadata": {},
     "output_type": "execute_result"
    }
   ],
   "source": [
    "df = DataFrame(mylist, colindex = ['C1', 'C2', 'C3', 'C4'])\n",
    "df"
   ]
  },
  {
   "cell_type": "code",
   "execution_count": 8,
   "metadata": {},
   "outputs": [
    {
     "name": "stdout",
     "output_type": "stream",
     "text": [
      "<class 'list'>\n",
      "[[1, 2, 3], [1.0, 2.3, 4.5], ['a', 'b', 'c'], [True, False, True]]\n",
      "0 : <class 'list'>\n",
      "1 : <class 'list'>\n",
      "2 : <class 'list'>\n",
      "3 : <class 'list'>\n"
     ]
    },
    {
     "data": {
      "text/plain": [
       "{0: [1, 2, 3], 1: [1.0, 2.3, 4.5], 2: ['a', 'b', 'c'], 3: [True, False, True]}\n",
       "\n",
       "It is a dict.\n",
       "\n",
       "Full content:\n",
       "{0: [1, 2, 3], 1: [1.0, 2.3, 4.5], 2: ['a', 'b', 'c'], 3: [True, False, True], 'colindex': [0, 1, 2, 3], 'rowindex': ['R1', 'R2', 'R3']}."
      ]
     },
     "execution_count": 8,
     "metadata": {},
     "output_type": "execute_result"
    }
   ],
   "source": [
    "df = DataFrame(mylist, rowindex = ['R1', 'R2', 'R3'])\n",
    "df"
   ]
  },
  {
   "cell_type": "code",
   "execution_count": 9,
   "metadata": {},
   "outputs": [
    {
     "name": "stdout",
     "output_type": "stream",
     "text": [
      "<class 'list'>\n",
      "[[1, 2, 3], [1.0, 2.3, 4.5], ['a', 'b', 'c'], [True, False, True]]\n",
      "0 : <class 'list'>\n",
      "1 : <class 'list'>\n",
      "2 : <class 'list'>\n",
      "3 : <class 'list'>\n"
     ]
    },
    {
     "data": {
      "text/plain": [
       "{'C1': [1, 2, 3], 'C2': [1.0, 2.3, 4.5], 'C3': ['a', 'b', 'c'], 'C4': [True, False, True]}\n",
       "\n",
       "It is a dict.\n",
       "\n",
       "Full content:\n",
       "{'C1': [1, 2, 3], 'C2': [1.0, 2.3, 4.5], 'C3': ['a', 'b', 'c'], 'C4': [True, False, True], 'colindex': ['C1', 'C2', 'C3', 'C4'], 'rowindex': ['R1', 'R2', 'R3']}."
      ]
     },
     "execution_count": 9,
     "metadata": {},
     "output_type": "execute_result"
    }
   ],
   "source": [
    "df = DataFrame(mylist, colindex = ['C1', 'C2', 'C3', 'C4'], rowindex = ['R1', 'R2', 'R3'])\n",
    "df"
   ]
  },
  {
   "cell_type": "code",
   "execution_count": 10,
   "metadata": {},
   "outputs": [
    {
     "data": {
      "text/plain": [
       "[1, 2, 3]"
      ]
     },
     "execution_count": 10,
     "metadata": {},
     "output_type": "execute_result"
    }
   ],
   "source": [
    "df['C1']"
   ]
  },
  {
   "cell_type": "code",
   "execution_count": 11,
   "metadata": {},
   "outputs": [],
   "source": [
    "## df[df['colindex'][1]]"
   ]
  },
  {
   "cell_type": "code",
   "execution_count": 12,
   "metadata": {},
   "outputs": [
    {
     "ename": "Exception",
     "evalue": "The input should be a list, a list of lists, a dictionary, or a numpy array. Now, it is a <class 'int'>",
     "output_type": "error",
     "traceback": [
      "\u001b[0;31m---------------------------------------------------------------------------\u001b[0m",
      "\u001b[0;31mException\u001b[0m                                 Traceback (most recent call last)",
      "\u001b[0;32m<ipython-input-12-0a15479b602a>\u001b[0m in \u001b[0;36m<module>\u001b[0;34m\u001b[0m\n\u001b[0;32m----> 1\u001b[0;31m \u001b[0mDataFrame\u001b[0m\u001b[0;34m(\u001b[0m\u001b[0;36m10\u001b[0m\u001b[0;34m)\u001b[0m\u001b[0;34m\u001b[0m\u001b[0;34m\u001b[0m\u001b[0m\n\u001b[0m",
      "\u001b[0;32m~/Documents/GitHub/ie_pandas/src/ie_pandas/__init__.py\u001b[0m in \u001b[0;36m__init__\u001b[0;34m(self, input_object, colindex, rowindex, axis)\u001b[0m\n\u001b[1;32m    112\u001b[0m                 \u001b[0mself\u001b[0m\u001b[0;34m.\u001b[0m\u001b[0mdf\u001b[0m \u001b[0;34m=\u001b[0m \u001b[0mmy_dict\u001b[0m\u001b[0;34m\u001b[0m\u001b[0;34m\u001b[0m\u001b[0m\n\u001b[1;32m    113\u001b[0m         \u001b[0;32melse\u001b[0m\u001b[0;34m:\u001b[0m\u001b[0;34m\u001b[0m\u001b[0;34m\u001b[0m\u001b[0m\n\u001b[0;32m--> 114\u001b[0;31m             \u001b[0;32mraise\u001b[0m \u001b[0mException\u001b[0m\u001b[0;34m(\u001b[0m\u001b[0;34mf\"The input should be a list, a list of lists, a dictionary, or a numpy array. Now, it is a {type(self.df)}\"\u001b[0m\u001b[0;34m)\u001b[0m\u001b[0;34m\u001b[0m\u001b[0;34m\u001b[0m\u001b[0m\n\u001b[0m\u001b[1;32m    115\u001b[0m \u001b[0;34m\u001b[0m\u001b[0m\n\u001b[1;32m    116\u001b[0m     \u001b[0;31m# To modify the content of the df\u001b[0m\u001b[0;34m\u001b[0m\u001b[0;34m\u001b[0m\u001b[0;34m\u001b[0m\u001b[0m\n",
      "\u001b[0;31mException\u001b[0m: The input should be a list, a list of lists, a dictionary, or a numpy array. Now, it is a <class 'int'>"
     ]
    }
   ],
   "source": [
    "DataFrame(10)"
   ]
  },
  {
   "cell_type": "code",
   "execution_count": null,
   "metadata": {},
   "outputs": [],
   "source": [
    "type(df)"
   ]
  },
  {
   "cell_type": "code",
   "execution_count": null,
   "metadata": {},
   "outputs": [],
   "source": [
    "# df.pretty(['b','a'])"
   ]
  },
  {
   "cell_type": "code",
   "execution_count": null,
   "metadata": {},
   "outputs": [],
   "source": []
  }
 ],
 "metadata": {
  "kernelspec": {
   "display_name": "Python 3",
   "language": "python",
   "name": "python3"
  },
  "language_info": {
   "codemirror_mode": {
    "name": "ipython",
    "version": 3
   },
   "file_extension": ".py",
   "mimetype": "text/x-python",
   "name": "python",
   "nbconvert_exporter": "python",
   "pygments_lexer": "ipython3",
   "version": "3.7.3"
  },
  "toc": {
   "base_numbering": 1,
   "nav_menu": {},
   "number_sections": false,
   "sideBar": true,
   "skip_h1_title": true,
   "title_cell": "Table of Contents",
   "title_sidebar": "Contents",
   "toc_cell": false,
   "toc_position": {},
   "toc_section_display": true,
   "toc_window_display": false
  }
 },
 "nbformat": 4,
 "nbformat_minor": 2
}
