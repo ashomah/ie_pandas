{
 "cells": [
  {
   "cell_type": "code",
   "execution_count": 1,
   "metadata": {
    "scrolled": true
   },
   "outputs": [
    {
     "name": "stdout",
     "output_type": "stream",
     "text": [
      "Obtaining file:///C:/Users/Martin/ie_pandas\n",
      "Requirement already satisfied: numpy in c:\\users\\martin\\anaconda3\\envs\\only_np\\lib\\site-packages (from ie-pandas==0.1.dev0) (1.16.3)\n",
      "Installing collected packages: ie-pandas\n",
      "  Found existing installation: ie-pandas 0.1.dev0\n",
      "    Uninstalling ie-pandas-0.1.dev0:\n",
      "      Successfully uninstalled ie-pandas-0.1.dev0\n",
      "  Running setup.py develop for ie-pandas\n",
      "Successfully installed ie-pandas\n"
     ]
    }
   ],
   "source": [
    "!pip install -e ."
   ]
  },
  {
   "cell_type": "code",
   "execution_count": 2,
   "metadata": {},
   "outputs": [
    {
     "name": "stdout",
     "output_type": "stream",
     "text": [
      "Done __init__.py\n"
     ]
    }
   ],
   "source": [
    "from ie_pandas import DataFrame"
   ]
  },
  {
   "cell_type": "code",
   "execution_count": 58,
   "metadata": {},
   "outputs": [
    {
     "name": "stdout",
     "output_type": "stream",
     "text": [
      "Done __init__.py\n"
     ]
    }
   ],
   "source": [
    "class DataFrame:\n",
    "\n",
    "    def __init__(self, input_object, colindex = '', rowindex = '', axis = 0):\n",
    "        '''\n",
    "        input_object: can be a list, a list of lists, a dictionary, a numpy array.\n",
    "        colindex: should be a list of column names.\n",
    "        rowindex: should be a list of row names.\n",
    "        axis: 0 if input_object contains data by column (default). 1 if input_object contains data by row.\n",
    "        '''\n",
    "        import numpy as np\n",
    "        self.df = input_object\n",
    "        # self.name = hex(id(self))\n",
    "        # self.input_object = to_array(self.input_object)\n",
    "\n",
    "        #########################################################\n",
    "        # PRE-CONVERT THE DF\n",
    "        #########################################################\n",
    "\n",
    "        def dict_to_array(dic):\n",
    "            \"\"\"\n",
    "            Function to convert dictionaries to numpy arrays\n",
    "            \"\"\"\n",
    "\n",
    "            # From dictionary of lists\n",
    "            if type(list(dic.items())[0][1]) == list:\n",
    "                arr_dic = np.array(list(dic.items()))\n",
    "                cols = []\n",
    "                ls = []\n",
    "                for i in arr_dic:\n",
    "                    for j in i:\n",
    "                        if type(j) != list:\n",
    "                            cols.append(j)\n",
    "                        elif type(j) == list:\n",
    "                            for k in j:\n",
    "                                ls.append(k)\n",
    "                ls2 = []\n",
    "                for item in range(int((len(ls) / len(arr_dic)))):\n",
    "                    counter = 0\n",
    "                    for ii in range(int(len(arr_dic))):\n",
    "                        ls2.append(ls[item + counter])\n",
    "                        counter += int((arr_dic.itemsize / 2))\n",
    "                return np.reshape(\n",
    "                    np.array(ls2), ((int(arr_dic.itemsize / 2), len(arr_dic)))\n",
    "                ), cols\n",
    "\n",
    "            # From dictionary of numpy arrays\n",
    "            elif str(type(list(dic.items())[0][1])) == \"<class 'numpy.ndarray'>\":\n",
    "                arr_dic = np.array(list(my_dict.items()))\n",
    "                cols = []\n",
    "                ls = []\n",
    "                for i in arr_dic:\n",
    "                    for j in i:\n",
    "                        if str(type(j)) != \"<class 'numpy.ndarray'>\":\n",
    "                            cols.append(j)\n",
    "                        elif str(type(j)) == \"<class 'numpy.ndarray'>\":\n",
    "                            for k in j:\n",
    "                                ls.append(k)\n",
    "                ls2 = []\n",
    "                for item in range(int((len(ls) / len(arr_dic)))):\n",
    "                    counter = 0\n",
    "                    for ii in range(int(len(arr_dic))):\n",
    "                        ls2.append(ls[item + counter])\n",
    "                        counter += int((arr_dic.itemsize / 2))\n",
    "                return cols, np.reshape(\n",
    "                    np.array(ls2), ((int(arr_dic.itemsize / 2), len(arr_dic)))\n",
    "                ), cols\n",
    "\n",
    "        def to_df(obj, axis):\n",
    "            cols = \"\"\n",
    "            if str(type(obj)) == \"<class 'numpy.ndarray'>\":\n",
    "                if axis == 0:\n",
    "                    return obj.tolist(), cols\n",
    "                else:\n",
    "                    return obj.T.tolist(), cols\n",
    "            elif type(obj) == list and obj[0] == [int or str or float]:\n",
    "                if axis == 0:\n",
    "                    return np.array(obj).tolist(), cols\n",
    "                else:\n",
    "                    return np.array(obj).T.tolist(), cols\n",
    "            elif type(obj) == dict:\n",
    "                if axis == 0:\n",
    "                    array_n_cols = dict_to_array(obj)\n",
    "                    return array_n_cols[0].T.tolist(), array_n_cols[1]\n",
    "                else:\n",
    "                    array_n_cols = dict_to_array(obj)\n",
    "                    return array_n_cols[0].tolist(), array_n_cols[1]\n",
    "            elif type(obj) == list and obj[0] == list:\n",
    "                for lst in range(obj-1):\n",
    "                    if len(obj[lst]) == len(obj[lst+1]):\n",
    "                        if axis == 0:\n",
    "                            return np.array(obj).tolist(), cols\n",
    "                        else:\n",
    "                            return np.array(obj).T.tolist(), cols\n",
    "            else:\n",
    "                if axis == 0:\n",
    "                    return obj, cols\n",
    "                else:\n",
    "                    return np.array(obj).T.tolist(), cols\n",
    "\n",
    "        self.df, dict_cols = to_df(self.df, axis)\n",
    "\n",
    "        #########################################################\n",
    "        # CONFIGURATE THE DATAFRAME\n",
    "        #########################################################\n",
    "\n",
    "        # Check if the input_object if a list\n",
    "        if type(self.df) == list:\n",
    "            mylist = self.df\n",
    "            count_elements = len(mylist)\n",
    "            count_records_first_element = len(mylist[0])\n",
    "\n",
    "            # Check if elements of mylist are lists\n",
    "            only_lists = True\n",
    "            for i in range(0, count_elements):\n",
    "                if type(mylist[i]) != list:\n",
    "                    only_lists = False\n",
    "            \n",
    "            if only_lists == False:\n",
    "                raise Exception(\"Only list of lists is accepted for now...\")\n",
    "            else:\n",
    "                # Check if each element is int, float, bool or string\n",
    "                for i in range(0, count_elements):\n",
    "                    if all(isinstance(j, (int, float, bool, str)) for j in mylist[i]) == False:\n",
    "                        print(type(mylist[i]))\n",
    "                        raise Exception(\"Data types should be integer, float, boolean or string.\")\n",
    "                        \n",
    "                # Check if each element contains consistent data types\n",
    "                for i in range(0, count_elements):\n",
    "                    if all(isinstance(j, type(mylist[i][0])) for j in mylist[i]) == False:\n",
    "                        raise Exception(\"Data types should be consistent within each column.\")\n",
    "                        \n",
    "                # Check each list has the same number of elements\n",
    "                for i in range(0, count_elements):\n",
    "                    if count_records_first_element != len(mylist[i]):\n",
    "                        raise Exception(\"Your lists don't have the same number of elements!\")\n",
    "\n",
    "                # Apply the column index\n",
    "                if (colindex == '') & (dict_cols == ''):\n",
    "                    colindex = list(map(str, range(0, count_elements)))\n",
    "                elif (colindex == '') & (dict_cols != ''):\n",
    "                    colindex = dict_cols\n",
    "                else:\n",
    "                    if len(colindex) != count_elements:\n",
    "                        raise Exception(f\"Not the right number of column names ! It should be {count_elements}, but it is {len(colindex)}.\")\n",
    "\n",
    "                # Apply the row index\n",
    "                if rowindex == '':\n",
    "                    rowindex = list(map(str, range(0, count_records_first_element)))\n",
    "                else:\n",
    "                    if len(rowindex) != count_records_first_element:\n",
    "                        raise Exception(f\"Not the right number of row names ! It should be {count_records_first_element}, but it is {len(rowindex)}.\")\n",
    "\n",
    "                my_dict = dict(zip(colindex, mylist))\n",
    "                self.colindex = list(colindex)\n",
    "                self.rowindex = list(rowindex)\n",
    "                self.df = my_dict\n",
    "        else:\n",
    "            raise Exception(f\"The input should be a list, a list of lists, a dictionary, or a numpy array. Now, it is a {type(self.df)}\")\n",
    "\n",
    "    # To modify the content of the df\n",
    "    def __setitem__(self, key, value):\n",
    "        self.df[key] = value    # SHOULD BE MODIFIED TO CHECK IF THE KEY IS IN COLINDEX\n",
    "\n",
    "    # To get the content of the df\n",
    "    def __getitem__(self, key):\n",
    "        import numpy as np\n",
    "        if key in self.colindex:\n",
    "            return np.array(self.df[key])\n",
    "        elif (isinstance(key, int) == False) | (key < 0) | (key > len(self.df[self.colindex[0]])):\n",
    "                raise Exception(f\"The key is out of range. It should be positive integer and smaller than {len(self.df[self.colindex[0]])}\")\n",
    "        else:\n",
    "            return np.array(self.df[self.colindex[key]])\n",
    "\n",
    "    # To get the content of one row\n",
    "    def get_row(self, index):\n",
    "        if isinstance(index, int) == False:\n",
    "            raise Exception(f\"The index should be an integer.\")\n",
    "        elif (index > len(self.df[self.colindex[0]])) | index < 0:\n",
    "            raise Exception(f\"The index is out of range. It should be positive and smaller than {len(self.df[self.colindex[0]])}\")\n",
    "        else:\n",
    "            return [self.df[i][index] for i in self.colindex]\n",
    "\n",
    "    # To print the df\n",
    "    def __repr__(self):\n",
    "        import numpy as np\n",
    "        n_print = \"\"\n",
    "        first = 1\n",
    "        max_len_rowindex = len(max(self.rowindex, key=len))\n",
    "        max_len_colindex = []\n",
    "        df_data = np.array(list(self.df.values()))\n",
    "\n",
    "        # ls = []\n",
    "        # for i in df_data:\n",
    "        #     for j in i:\n",
    "        #         ls.append(j)\n",
    "        # max_len_data = len(max(ls, key=len))\n",
    "        # print(ls)\n",
    "\n",
    "        new_print = f\"{'':<{max_len_rowindex}}\"\n",
    "        for c in self.colindex:\n",
    "            max_col = len(max(list(map(str, self.df[c])), key=len))\n",
    "            if max_col > len(c):\n",
    "                max_len_colindex.append(max_col)\n",
    "            else:\n",
    "                max_len_colindex.append(len(c))\n",
    "            new_print += f\"  {c:>{max_len_colindex[self.colindex.index(c)]}}\"\n",
    "        for r in self.rowindex:\n",
    "            new_print += f\"\\n{r:<{max_len_rowindex}}\"\n",
    "            for c in self.colindex:\n",
    "                new_print += f\"  {str(self.df[c][self.rowindex.index(r)]):>{max_len_colindex[self.colindex.index(c)]}}\"\n",
    "\n",
    "        # print(new_print)\n",
    "        return new_print\n",
    "        # for i in self.colindex\n",
    "\n",
    "        for key in self.colindex:\n",
    "            for i in range(len(list(self.df.items()))):\n",
    "                if key == list(self.df.items())[i][0]:\n",
    "                    if first == 1:\n",
    "                        first = 0\n",
    "                        n_print = f\"{list(self.df.items())[i][0]} : {list(self.df.items())[i][1]}\" \n",
    "                    else:\n",
    "                        n_print += f\"\\n{list(self.df.items())[i][0]} : {list(self.df.items())[i][1]}\"                 \n",
    "        return f\"{n_print}\"\n",
    "\n",
    "    #def sum(self):\n",
    "     #   for key in self.colindex:\n",
    "      #      print(\"self.df[key]:\", self.df[key])\n",
    "       #     list(map(float, self.df[key]))\n",
    "        #    if (isinstance(j, (int, float)) for j in self.df[key]) == True:\n",
    "         #       return sum(self.df[key])\n",
    "        \n",
    "            \n",
    "#     def sum(self):\n",
    "#         sum_list=[]\n",
    "#         sum_dictionary = dict()\n",
    "#         for key in self.keys:\n",
    "#             if all(isinstance(x, (int, float, np.int_, np.float_))for x in self.df[key]):\n",
    "#                 sum_dictionary[key] = np.sum(self.df[key])\n",
    "#                 else:\n",
    "#                     pass\n",
    "                \n",
    "#                 sum_list.append(sum_dictionary)\n",
    "#             return sum_list\n",
    "        \n",
    "    def sum(self):\n",
    "        import numpy as np\n",
    "        copy = self\n",
    "        sum_col=[]\n",
    "        cols =[]\n",
    "        for key in copy.colindex:\n",
    "            try:\n",
    "                copy.df[key] = list(map(float, copy.df[key]))\n",
    "            except ValueError as ex:\n",
    "                pass\n",
    "                \n",
    "            if all(isinstance(z, (int, float))for z in copy.df[key]):\n",
    "                cols.append(key)\n",
    "                sum_col.append(sum(copy.df[key]))\n",
    "        print(\"cols:\", cols)\n",
    "        print(\"sum_col:\", sum_col)\n",
    "        return sum_col\n",
    "    \n",
    "    def min(self):\n",
    "        import numpy as np\n",
    "        copy = self\n",
    "        min_col=[]\n",
    "        cols =[]\n",
    "        for key in copy.colindex:\n",
    "            try:\n",
    "                copy.df[key] = list(map(float, copy.df[key]))\n",
    "            except ValueError as ex:\n",
    "                pass\n",
    "                \n",
    "            if all(isinstance(z, (int, float))for z in copy.df[key]):\n",
    "                cols.append(key)\n",
    "                min_col.append(min(copy.df[key]))\n",
    "        print(\"cols:\", cols)\n",
    "        print(\"min_col:\", min_col)\n",
    "        return min_col\n",
    "    \n",
    "    def max(self):\n",
    "        import numpy as np\n",
    "        copy = self\n",
    "        max_col=[]\n",
    "        cols =[]\n",
    "        for key in copy.colindex:\n",
    "            try:\n",
    "                copy.df[key] = list(map(float, copy.df[key]))\n",
    "            except ValueError as ex:\n",
    "                pass\n",
    "                \n",
    "            if all(isinstance(z, (int, float))for z in copy.df[key]):\n",
    "                cols.append(key)\n",
    "                max_col.append(max(copy.df[key]))\n",
    "        print(\"cols:\", cols)\n",
    "        print(\"max_col:\", max_col)\n",
    "        return max_col                  \n",
    "        \n",
    "    def median(self):\n",
    "        import statistics\n",
    "        copy = self\n",
    "        median_col=[]\n",
    "        cols =[]\n",
    "        for key in copy.colindex:\n",
    "            try:\n",
    "                copy.df[key] = list(map(float, copy.df[key]))\n",
    "            except ValueError as ex:\n",
    "                pass\n",
    "                \n",
    "            if all(isinstance(z, (int, float))for z in copy.df[key]):\n",
    "                cols.append(key)\n",
    "                median_col.append(statistics.median(copy.df[key]))\n",
    "        print(\"cols:\", cols)\n",
    "        print(\"median_col:\", median_col)\n",
    "        return median_col           \n",
    "\n",
    "    # def __repr__(self):\n",
    "    #     import numpy as np\n",
    "    #     n_print = \"\"\n",
    "    #     first = 1\n",
    "    #     for key in self.colindex:\n",
    "    #         for i in range(len(list(self.df.items()))):\n",
    "    #             if key == list(self.df.items())[i][0]:\n",
    "    #                 if first == 1:\n",
    "    #                     first = 0\n",
    "    #                     n_print = f\"{list(self.df.items())[i][0]} : {list(self.df.items())[i][1]}\" \n",
    "    #                 else:\n",
    "    #                     n_print += f\"\\n{list(self.df.items())[i][0]} : {list(self.df.items())[i][1]}\"                 \n",
    "    #     return f\"{n_print}\"\n",
    "\n",
    "    # def __repr__(self):\n",
    "    #     import numpy as np\n",
    "    #     n_print = { key:value for key,value in self.df.items() if key in self.colindex}\n",
    "    #     return f\"{n_print}\"\n",
    "\n",
    "    # @staticmethod\n",
    "    # def nice_print ():\n",
    "    #     list_col = self.df['colindex']\n",
    "    #     n_print = { key:value for key,value in self.df.items() if key in list_col}\n",
    "    #     return f\"{n_print}\"\n",
    "\n",
    "    # def pretty(self, list_col):\n",
    "    #     n_print = {key:value for key,value in self.df.items() if key in list_col}\n",
    "    #     return n_print\n",
    "\n",
    "# def to_array(obj):\n",
    "#     \"\"\"\n",
    "#     Function to convert any object to numpy array\n",
    "#     \"\"\"\n",
    "\n",
    "#     if str(type(obj)) == \"<class 'numpy.ndarray'>\":\n",
    "#         return obj\n",
    "#     elif type(obj) == list and obj[0] == [int or str or float]:\n",
    "#         return np.array(obj)\n",
    "#     elif type(obj) == dict:\n",
    "#         return dict_to_array(obj)\n",
    "#     elif type(obj) == list and obj[0] == list:\n",
    "#         for lst in range(obj - 1):\n",
    "#             if len(obj[lst]) == len(obj[lst + 1]):\n",
    "#                 return np.array(obj)\n",
    "     \n",
    "# To indicate the script has been run when importing the package\n",
    "print(\"Done __init__.py\")\n"
   ]
  },
  {
   "cell_type": "code",
   "execution_count": 59,
   "metadata": {
    "scrolled": true
   },
   "outputs": [
    {
     "data": {
      "text/plain": [
       "{'col_1': [3, 2, 1.0, 0],\n",
       " 'col_2': ['as', 'bs', 'cs', 'ds'],\n",
       " 'col_3': [3, 2, 1, 0],\n",
       " 'col_4': ['a', 'b', 'c', 'd']}"
      ]
     },
     "execution_count": 59,
     "metadata": {},
     "output_type": "execute_result"
    }
   ],
   "source": [
    "dic = {'col_1': [3, 2, 1.0, 0],\n",
    "       'col_2': ['as', 'bs', 'cs', 'ds'],\n",
    "       'col_3': [3, 2, 1, 0],\n",
    "       'col_4': ['a', 'b', 'c', 'd']}\n",
    "dic"
   ]
  },
  {
   "cell_type": "code",
   "execution_count": 60,
   "metadata": {
    "scrolled": true
   },
   "outputs": [
    {
     "data": {
      "text/plain": [
       "      A   B  C  D\n",
       "R1    3  as  3  a\n",
       "R2    2  bs  2  b\n",
       "R3  1.0  cs  1  c\n",
       "R4    0  ds  0  d"
      ]
     },
     "execution_count": 60,
     "metadata": {},
     "output_type": "execute_result"
    }
   ],
   "source": [
    "dic_pandas = DataFrame(dic, rowindex = ['R1', 'R2', 'R3', 'R4'], colindex=['A', 'B', 'C', 'D'])\n",
    "dic_pandas"
   ]
  },
  {
   "cell_type": "code",
   "execution_count": 61,
   "metadata": {},
   "outputs": [
    {
     "data": {
      "text/plain": [
       "__main__.DataFrame"
      ]
     },
     "execution_count": 61,
     "metadata": {},
     "output_type": "execute_result"
    }
   ],
   "source": [
    "type(dic_pandas)"
   ]
  },
  {
   "cell_type": "code",
   "execution_count": 62,
   "metadata": {},
   "outputs": [
    {
     "name": "stdout",
     "output_type": "stream",
     "text": [
      "cols: ['A', 'C']\n",
      "sum_col: [6.0, 6.0]\n"
     ]
    },
    {
     "data": {
      "text/plain": [
       "[6.0, 6.0]"
      ]
     },
     "execution_count": 62,
     "metadata": {},
     "output_type": "execute_result"
    }
   ],
   "source": [
    "dic_pandas.sum()"
   ]
  },
  {
   "cell_type": "code",
   "execution_count": 63,
   "metadata": {},
   "outputs": [
    {
     "name": "stdout",
     "output_type": "stream",
     "text": [
      "cols: ['A', 'C']\n",
      "min_col: [0.0, 0.0]\n"
     ]
    },
    {
     "data": {
      "text/plain": [
       "[0.0, 0.0]"
      ]
     },
     "execution_count": 63,
     "metadata": {},
     "output_type": "execute_result"
    }
   ],
   "source": [
    "dic_pandas.min()"
   ]
  },
  {
   "cell_type": "code",
   "execution_count": 64,
   "metadata": {},
   "outputs": [
    {
     "name": "stdout",
     "output_type": "stream",
     "text": [
      "cols: ['A', 'C']\n",
      "max_col: [3.0, 3.0]\n"
     ]
    },
    {
     "data": {
      "text/plain": [
       "[3.0, 3.0]"
      ]
     },
     "execution_count": 64,
     "metadata": {},
     "output_type": "execute_result"
    }
   ],
   "source": [
    "dic_pandas.max()"
   ]
  },
  {
   "cell_type": "code",
   "execution_count": 65,
   "metadata": {},
   "outputs": [
    {
     "name": "stdout",
     "output_type": "stream",
     "text": [
      "cols: ['A', 'C']\n",
      "median_col: [1.5, 1.5]\n"
     ]
    },
    {
     "data": {
      "text/plain": [
       "[1.5, 1.5]"
      ]
     },
     "execution_count": 65,
     "metadata": {},
     "output_type": "execute_result"
    }
   ],
   "source": [
    "dic_pandas.median()"
   ]
  },
  {
   "cell_type": "code",
   "execution_count": null,
   "metadata": {},
   "outputs": [],
   "source": [
    "df = [[1,2,3],[\"q\",\"b\",\"c\"],[4,5,4]]"
   ]
  },
  {
   "cell_type": "code",
   "execution_count": null,
   "metadata": {},
   "outputs": [],
   "source": [
    "df"
   ]
  },
  {
   "cell_type": "code",
   "execution_count": null,
   "metadata": {},
   "outputs": [],
   "source": [
    "df1 = DataFrame(df)"
   ]
  },
  {
   "cell_type": "code",
   "execution_count": null,
   "metadata": {},
   "outputs": [],
   "source": [
    "df1"
   ]
  },
  {
   "cell_type": "code",
   "execution_count": null,
   "metadata": {},
   "outputs": [],
   "source": [
    "mylist = [[1, 2, 3],\n",
    "          [1.0, 2.3, 4.5],\n",
    "          ['a', 'b', 'c'],\n",
    "          [True, False, True]]"
   ]
  },
  {
   "cell_type": "code",
   "execution_count": null,
   "metadata": {},
   "outputs": [],
   "source": [
    "import numpy as np\n",
    "npmylist = np.array(mylist)\n",
    "print(type(npmylist))\n",
    "npmylist"
   ]
  },
  {
   "cell_type": "code",
   "execution_count": null,
   "metadata": {},
   "outputs": [],
   "source": [
    "df_npmylist = DataFrame(npmylist)\n",
    "df_npmylist"
   ]
  },
  {
   "cell_type": "code",
   "execution_count": null,
   "metadata": {},
   "outputs": [],
   "source": [
    "df = DataFrame(mylist, axis = 0)\n",
    "df"
   ]
  },
  {
   "cell_type": "code",
   "execution_count": null,
   "metadata": {},
   "outputs": [],
   "source": [
    "df.get_row(0)"
   ]
  },
  {
   "cell_type": "code",
   "execution_count": null,
   "metadata": {},
   "outputs": [],
   "source": [
    "df = DataFrame(mylist, colindex = ['C1', 'C2', 'C3', 'C4'])\n",
    "df"
   ]
  },
  {
   "cell_type": "code",
   "execution_count": null,
   "metadata": {},
   "outputs": [],
   "source": [
    "df = DataFrame(mylist, rowindex = ['R1', 'R2', 'R3'])\n",
    "df"
   ]
  },
  {
   "cell_type": "code",
   "execution_count": null,
   "metadata": {},
   "outputs": [],
   "source": [
    "df = DataFrame(mylist, colindex = ['C1', 'C2', 'C3', 'C4'], rowindex = ['R1', 'R2', 'R3'])\n",
    "df"
   ]
  },
  {
   "cell_type": "code",
   "execution_count": null,
   "metadata": {},
   "outputs": [],
   "source": [
    "df[3]"
   ]
  },
  {
   "cell_type": "code",
   "execution_count": null,
   "metadata": {},
   "outputs": [],
   "source": [
    "## df[df['colindex'][1]]"
   ]
  },
  {
   "cell_type": "code",
   "execution_count": null,
   "metadata": {},
   "outputs": [],
   "source": [
    "DataFrame(10)"
   ]
  },
  {
   "cell_type": "code",
   "execution_count": null,
   "metadata": {},
   "outputs": [],
   "source": [
    "type(df)"
   ]
  },
  {
   "cell_type": "code",
   "execution_count": null,
   "metadata": {},
   "outputs": [],
   "source": [
    "# df.pretty(['b','a'])"
   ]
  },
  {
   "cell_type": "code",
   "execution_count": null,
   "metadata": {},
   "outputs": [],
   "source": [
    "sum(dic_pandas[1])"
   ]
  },
  {
   "cell_type": "code",
   "execution_count": null,
   "metadata": {},
   "outputs": [],
   "source": [
    " def sum(self):\n",
    "\n",
    "        sum_collector = []\n",
    "\n",
    "        columns = []\n",
    "\n",
    "        for key in self._items:\n",
    "\n",
    "            if self._items[key].dtype == \"float64\" or self._items[key].dtype == \"int32\":\n",
    "\n",
    "                columns.append(key)\n",
    "\n",
    "                sum_collector.append(sum(self._items[key]))\n",
    "\n",
    "        table = plt.table(\n",
    "\n",
    "            cellText=[sum_collector],\n",
    "\n",
    "            colLabels=columns,\n",
    "\n",
    "            colColours=[\"c\"] * len(columns),\n",
    "\n",
    "            loc = 'center'\n",
    "\n",
    "        )\n",
    "\n",
    "        table.set_fontsize(14)\n",
    "\n",
    "        table.scale(1.5,1.5)\n",
    "\n",
    "        plt.axis(\"off\")\n",
    "\n",
    "        return sum_collector\n",
    "\n"
   ]
  },
  {
   "cell_type": "code",
   "execution_count": null,
   "metadata": {},
   "outputs": [],
   "source": [
    "sum(dic_pandas)"
   ]
  },
  {
   "cell_type": "code",
   "execution_count": null,
   "metadata": {},
   "outputs": [],
   "source": []
  }
 ],
 "metadata": {
  "kernelspec": {
   "display_name": "Python 3",
   "language": "python",
   "name": "python3"
  },
  "language_info": {
   "codemirror_mode": {
    "name": "ipython",
    "version": 3
   },
   "file_extension": ".py",
   "mimetype": "text/x-python",
   "name": "python",
   "nbconvert_exporter": "python",
   "pygments_lexer": "ipython3",
   "version": "3.7.3"
  },
  "toc": {
   "base_numbering": 1,
   "nav_menu": {},
   "number_sections": false,
   "sideBar": true,
   "skip_h1_title": true,
   "title_cell": "Table of Contents",
   "title_sidebar": "Contents",
   "toc_cell": false,
   "toc_position": {},
   "toc_section_display": true,
   "toc_window_display": false
  }
 },
 "nbformat": 4,
 "nbformat_minor": 2
}
